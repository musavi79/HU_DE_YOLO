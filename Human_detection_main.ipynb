{
  "nbformat": 4,
  "nbformat_minor": 0,
  "metadata": {
    "colab": {
      "name": "Human_detection_main.ipynb",
      "provenance": [],
      "collapsed_sections": []
    },
    "kernelspec": {
      "name": "python3",
      "display_name": "Python 3"
    },
    "language_info": {
      "name": "python"
    }
  },
  "cells": [
    {
      "cell_type": "markdown",
      "source": [
        "**Yolo Human Detection**"
      ],
      "metadata": {
        "id": "g8i74JLA07w1"
      }
    },
    {
      "cell_type": "markdown",
      "source": [
        "0.Check and Select Runtime/change runtime type/Hardware accelerator=GPU\n",
        " "
      ],
      "metadata": {
        "id": "iK63PhGb1duJ"
      }
    },
    {
      "cell_type": "markdown",
      "source": [
        "1.Run the first Cell."
      ],
      "metadata": {
        "id": "risipGKa2lyV"
      }
    },
    {
      "cell_type": "markdown",
      "source": [
        "2.Upload best.pt and your input video from project's folder"
      ],
      "metadata": {
        "id": "x0RQkcji2wds"
      }
    },
    {
      "cell_type": "markdown",
      "source": [
        "3.Enter your input video path in third cell"
      ],
      "metadata": {
        "id": "TsBQo1Jg3O2v"
      }
    },
    {
      "cell_type": "markdown",
      "source": [
        "4.Run the third cell"
      ],
      "metadata": {
        "id": "Hu0BSIza3uAt"
      }
    },
    {
      "cell_type": "code",
      "execution_count": 5,
      "metadata": {
        "colab": {
          "base_uri": "https://localhost:8080/"
        },
        "id": "4p-u92pHq8f4",
        "outputId": "2d6273c6-074d-4e92-b6ec-065d2e791efc"
      },
      "outputs": [
        {
          "output_type": "stream",
          "name": "stderr",
          "text": [
            "YOLOv5 🚀 v6.1-230-gbf1a6dd Python-3.7.13 torch-1.11.0+cu113 CPU\n"
          ]
        },
        {
          "output_type": "stream",
          "name": "stdout",
          "text": [
            "Setup complete ✅ (2 CPUs, 12.7 GB RAM, 38.4/107.7 GB disk)\n"
          ]
        }
      ],
      "source": [
        "!git clone https://github.com/ultralytics/yolov5  # clone\n",
        "%cd yolov5\n",
        "%pip install -qr requirements.txt  # install\n",
        "\n",
        "import torch\n",
        "import utils\n",
        "display = utils.notebook_init()  # checks"
      ]
    },
    {
      "cell_type": "code",
      "source": [
        "\n",
        "python detect.py --source 0  # webcam\n",
        "                          img.jpg  # image \n",
        "                          vid.mp4  # video\n",
        "                          path/  # directory\n",
        "                          path/*.jpg  # glob\n",
        "                          'https://youtu.be/Zgi9g1ksQHc'  # YouTube\n",
        "                          'rtsp://example.com/media.mp4'  # RTSP, RTMP, HTTP stream\n"
      ],
      "metadata": {
        "colab": {
          "base_uri": "https://localhost:8080/"
        },
        "id": "xEHMJpJuwypN",
        "outputId": "28527f5e-ffcd-4914-aa25-e9881a2fe73f"
      },
      "execution_count": 2,
      "outputs": [
        {
          "output_type": "stream",
          "name": "stdout",
          "text": [
            "--2022-05-28 07:24:00--  https://drive.google.com/file/d/14JFZOSDsxLHVZezYujfVTOT0460F6Ur3/view?usp=sharing\n",
            "Resolving drive.google.com (drive.google.com)... 172.217.212.100, 172.217.212.102, 172.217.212.138, ...\n",
            "Connecting to drive.google.com (drive.google.com)|172.217.212.100|:443... connected.\n",
            "HTTP request sent, awaiting response... 200 OK\n",
            "Length: unspecified [text/html]\n",
            "Saving to: ‘view?usp=sharing’\n",
            "\n",
            "view?usp=sharing        [ <=>                ]  64.83K  --.-KB/s    in 0.001s  \n",
            "\n",
            "2022-05-28 07:24:00 (83.6 MB/s) - ‘view?usp=sharing’ saved [66389]\n",
            "\n"
          ]
        }
      ]
    },
    {
      "cell_type": "code",
      "source": [
        "!python detect.py --weights /content/best.pt --img 640 --conf 0.25 --source \"paste path of input video here \" \n",
        "\n"
      ],
      "metadata": {
        "colab": {
          "base_uri": "https://localhost:8080/"
        },
        "id": "RgwMJQuUyC2H",
        "outputId": "c4f82b2e-2551-41bc-e7d3-ff40ff059cb9"
      },
      "execution_count": 7,
      "outputs": [
        {
          "output_type": "stream",
          "name": "stdout",
          "text": [
            "\u001b[34m\u001b[1mdetect: \u001b[0mweights=['/content/best.pt'], source=/content/input2.mp4, data=data/coco128.yaml, imgsz=[640, 640], conf_thres=0.25, iou_thres=0.45, max_det=1000, device=, view_img=False, save_txt=False, save_conf=False, save_crop=False, nosave=False, classes=None, agnostic_nms=False, augment=False, visualize=False, update=False, project=runs/detect, name=exp, exist_ok=False, line_thickness=3, hide_labels=False, hide_conf=False, half=False, dnn=False\n",
            "YOLOv5 🚀 v6.1-230-gbf1a6dd Python-3.7.13 torch-1.11.0+cu113 CPU\n",
            "\n",
            "Fusing layers... \n",
            "Model summary: 290 layers, 20852934 parameters, 0 gradients, 47.9 GFLOPs\n",
            "video 1/1 (1/304) /content/input2.mp4: 384x640 7 humans, Done. (0.649s)\n",
            "video 1/1 (2/304) /content/input2.mp4: 384x640 6 humans, Done. (0.658s)\n",
            "video 1/1 (3/304) /content/input2.mp4: 384x640 7 humans, Done. (0.634s)\n",
            "video 1/1 (4/304) /content/input2.mp4: 384x640 6 humans, Done. (0.618s)\n",
            "video 1/1 (5/304) /content/input2.mp4: 384x640 7 humans, Done. (0.638s)\n",
            "video 1/1 (6/304) /content/input2.mp4: 384x640 9 humans, Done. (0.635s)\n",
            "video 1/1 (7/304) /content/input2.mp4: 384x640 10 humans, Done. (0.641s)\n",
            "video 1/1 (8/304) /content/input2.mp4: 384x640 8 humans, Done. (0.634s)\n",
            "video 1/1 (9/304) /content/input2.mp4: 384x640 7 humans, Done. (0.621s)\n",
            "video 1/1 (10/304) /content/input2.mp4: 384x640 7 humans, Done. (0.624s)\n",
            "video 1/1 (11/304) /content/input2.mp4: 384x640 9 humans, Done. (0.641s)\n",
            "video 1/1 (12/304) /content/input2.mp4: 384x640 6 humans, Done. (0.646s)\n",
            "video 1/1 (13/304) /content/input2.mp4: 384x640 6 humans, Done. (0.640s)\n",
            "video 1/1 (14/304) /content/input2.mp4: 384x640 7 humans, Done. (0.649s)\n",
            "video 1/1 (15/304) /content/input2.mp4: 384x640 8 humans, Done. (0.628s)\n",
            "video 1/1 (16/304) /content/input2.mp4: 384x640 8 humans, Done. (0.626s)\n",
            "video 1/1 (17/304) /content/input2.mp4: 384x640 7 humans, Done. (0.630s)\n",
            "video 1/1 (18/304) /content/input2.mp4: 384x640 7 humans, Done. (0.641s)\n",
            "video 1/1 (19/304) /content/input2.mp4: 384x640 7 humans, Done. (0.628s)\n",
            "video 1/1 (20/304) /content/input2.mp4: 384x640 6 humans, Done. (0.640s)\n",
            "video 1/1 (21/304) /content/input2.mp4: 384x640 5 humans, Done. (0.632s)\n",
            "video 1/1 (22/304) /content/input2.mp4: 384x640 5 humans, Done. (0.645s)\n",
            "video 1/1 (23/304) /content/input2.mp4: 384x640 6 humans, Done. (0.637s)\n",
            "video 1/1 (24/304) /content/input2.mp4: 384x640 10 humans, Done. (0.652s)\n",
            "video 1/1 (25/304) /content/input2.mp4: 384x640 11 humans, Done. (0.640s)\n",
            "video 1/1 (26/304) /content/input2.mp4: 384x640 8 humans, Done. (0.630s)\n",
            "video 1/1 (27/304) /content/input2.mp4: 384x640 9 humans, Done. (0.659s)\n",
            "video 1/1 (28/304) /content/input2.mp4: 384x640 9 humans, Done. (0.647s)\n",
            "video 1/1 (29/304) /content/input2.mp4: 384x640 12 humans, Done. (0.667s)\n",
            "video 1/1 (30/304) /content/input2.mp4: 384x640 11 humans, Done. (0.655s)\n",
            "video 1/1 (31/304) /content/input2.mp4: 384x640 11 humans, Done. (0.636s)\n",
            "video 1/1 (32/304) /content/input2.mp4: 384x640 9 humans, Done. (0.619s)\n",
            "video 1/1 (33/304) /content/input2.mp4: 384x640 11 humans, Done. (0.641s)\n",
            "video 1/1 (34/304) /content/input2.mp4: 384x640 11 humans, Done. (0.640s)\n",
            "video 1/1 (35/304) /content/input2.mp4: 384x640 7 humans, Done. (0.632s)\n",
            "video 1/1 (36/304) /content/input2.mp4: 384x640 11 humans, Done. (0.643s)\n",
            "video 1/1 (37/304) /content/input2.mp4: 384x640 9 humans, Done. (0.626s)\n",
            "video 1/1 (38/304) /content/input2.mp4: 384x640 11 humans, Done. (0.631s)\n",
            "video 1/1 (39/304) /content/input2.mp4: 384x640 10 humans, Done. (0.630s)\n",
            "video 1/1 (40/304) /content/input2.mp4: 384x640 10 humans, Done. (0.616s)\n",
            "video 1/1 (41/304) /content/input2.mp4: 384x640 10 humans, Done. (0.636s)\n",
            "video 1/1 (42/304) /content/input2.mp4: 384x640 8 humans, Done. (0.629s)\n",
            "video 1/1 (43/304) /content/input2.mp4: 384x640 10 humans, Done. (0.623s)\n",
            "video 1/1 (44/304) /content/input2.mp4: 384x640 10 humans, Done. (0.626s)\n",
            "video 1/1 (45/304) /content/input2.mp4: 384x640 11 humans, Done. (0.633s)\n",
            "video 1/1 (46/304) /content/input2.mp4: 384x640 11 humans, Done. (0.624s)\n",
            "video 1/1 (47/304) /content/input2.mp4: 384x640 10 humans, Done. (0.665s)\n",
            "video 1/1 (48/304) /content/input2.mp4: 384x640 11 humans, Done. (0.654s)\n",
            "video 1/1 (49/304) /content/input2.mp4: 384x640 12 humans, Done. (0.622s)\n",
            "video 1/1 (50/304) /content/input2.mp4: 384x640 10 humans, Done. (0.648s)\n",
            "video 1/1 (51/304) /content/input2.mp4: 384x640 10 humans, Done. (0.637s)\n",
            "video 1/1 (52/304) /content/input2.mp4: 384x640 10 humans, Done. (0.622s)\n",
            "video 1/1 (53/304) /content/input2.mp4: 384x640 12 humans, Done. (0.633s)\n",
            "video 1/1 (54/304) /content/input2.mp4: 384x640 11 humans, Done. (0.613s)\n",
            "video 1/1 (55/304) /content/input2.mp4: 384x640 10 humans, Done. (0.625s)\n",
            "video 1/1 (56/304) /content/input2.mp4: 384x640 13 humans, Done. (0.622s)\n",
            "video 1/1 (57/304) /content/input2.mp4: 384x640 12 humans, Done. (0.611s)\n",
            "video 1/1 (58/304) /content/input2.mp4: 384x640 11 humans, Done. (0.635s)\n",
            "video 1/1 (59/304) /content/input2.mp4: 384x640 11 humans, Done. (0.625s)\n",
            "video 1/1 (60/304) /content/input2.mp4: 384x640 10 humans, Done. (0.623s)\n",
            "video 1/1 (61/304) /content/input2.mp4: 384x640 11 humans, Done. (0.618s)\n",
            "video 1/1 (62/304) /content/input2.mp4: 384x640 10 humans, Done. (0.617s)\n",
            "video 1/1 (63/304) /content/input2.mp4: 384x640 10 humans, Done. (0.630s)\n",
            "video 1/1 (64/304) /content/input2.mp4: 384x640 11 humans, Done. (0.640s)\n",
            "video 1/1 (65/304) /content/input2.mp4: 384x640 13 humans, Done. (0.625s)\n",
            "video 1/1 (66/304) /content/input2.mp4: 384x640 10 humans, Done. (0.633s)\n",
            "video 1/1 (67/304) /content/input2.mp4: 384x640 10 humans, Done. (0.642s)\n",
            "video 1/1 (68/304) /content/input2.mp4: 384x640 10 humans, Done. (0.628s)\n",
            "video 1/1 (69/304) /content/input2.mp4: 384x640 8 humans, Done. (0.644s)\n",
            "video 1/1 (70/304) /content/input2.mp4: 384x640 8 humans, Done. (0.659s)\n",
            "video 1/1 (71/304) /content/input2.mp4: 384x640 8 humans, Done. (0.622s)\n",
            "video 1/1 (72/304) /content/input2.mp4: 384x640 7 humans, Done. (0.635s)\n",
            "video 1/1 (73/304) /content/input2.mp4: 384x640 9 humans, Done. (0.640s)\n",
            "video 1/1 (74/304) /content/input2.mp4: 384x640 10 humans, Done. (0.619s)\n",
            "video 1/1 (75/304) /content/input2.mp4: 384x640 9 humans, Done. (0.635s)\n",
            "video 1/1 (76/304) /content/input2.mp4: 384x640 9 humans, Done. (0.638s)\n",
            "video 1/1 (77/304) /content/input2.mp4: 384x640 10 humans, Done. (0.629s)\n",
            "video 1/1 (78/304) /content/input2.mp4: 384x640 10 humans, Done. (0.625s)\n",
            "video 1/1 (79/304) /content/input2.mp4: 384x640 9 humans, Done. (0.623s)\n",
            "video 1/1 (80/304) /content/input2.mp4: 384x640 9 humans, Done. (0.631s)\n",
            "video 1/1 (81/304) /content/input2.mp4: 384x640 9 humans, Done. (0.639s)\n",
            "video 1/1 (82/304) /content/input2.mp4: 384x640 8 humans, Done. (0.617s)\n",
            "video 1/1 (83/304) /content/input2.mp4: 384x640 10 humans, Done. (0.616s)\n",
            "video 1/1 (84/304) /content/input2.mp4: 384x640 11 humans, Done. (0.616s)\n",
            "video 1/1 (85/304) /content/input2.mp4: 384x640 8 humans, Done. (0.620s)\n",
            "video 1/1 (86/304) /content/input2.mp4: 384x640 9 humans, Done. (0.621s)\n",
            "video 1/1 (87/304) /content/input2.mp4: 384x640 9 humans, Done. (0.623s)\n",
            "video 1/1 (88/304) /content/input2.mp4: 384x640 9 humans, Done. (0.633s)\n",
            "video 1/1 (89/304) /content/input2.mp4: 384x640 10 humans, Done. (0.629s)\n",
            "video 1/1 (90/304) /content/input2.mp4: 384x640 12 humans, Done. (0.617s)\n",
            "video 1/1 (91/304) /content/input2.mp4: 384x640 10 humans, Done. (0.641s)\n",
            "video 1/1 (92/304) /content/input2.mp4: 384x640 10 humans, Done. (0.637s)\n",
            "video 1/1 (93/304) /content/input2.mp4: 384x640 10 humans, Done. (0.625s)\n",
            "video 1/1 (94/304) /content/input2.mp4: 384x640 9 humans, Done. (0.625s)\n",
            "video 1/1 (95/304) /content/input2.mp4: 384x640 11 humans, Done. (0.621s)\n",
            "video 1/1 (96/304) /content/input2.mp4: 384x640 9 humans, Done. (0.644s)\n",
            "video 1/1 (97/304) /content/input2.mp4: 384x640 8 humans, Done. (0.640s)\n",
            "video 1/1 (98/304) /content/input2.mp4: 384x640 9 humans, Done. (0.643s)\n",
            "video 1/1 (99/304) /content/input2.mp4: 384x640 9 humans, Done. (0.640s)\n",
            "video 1/1 (100/304) /content/input2.mp4: 384x640 10 humans, Done. (0.626s)\n",
            "video 1/1 (101/304) /content/input2.mp4: 384x640 3 humans, Done. (0.624s)\n",
            "video 1/1 (102/304) /content/input2.mp4: 384x640 3 humans, Done. (0.619s)\n",
            "video 1/1 (103/304) /content/input2.mp4: 384x640 1 human, Done. (0.625s)\n",
            "video 1/1 (104/304) /content/input2.mp4: 384x640 2 humans, Done. (0.647s)\n",
            "video 1/1 (105/304) /content/input2.mp4: 384x640 2 humans, Done. (0.632s)\n",
            "video 1/1 (106/304) /content/input2.mp4: 384x640 2 humans, Done. (0.624s)\n",
            "video 1/1 (107/304) /content/input2.mp4: 384x640 3 humans, Done. (0.625s)\n",
            "video 1/1 (108/304) /content/input2.mp4: 384x640 2 humans, Done. (0.627s)\n",
            "video 1/1 (109/304) /content/input2.mp4: 384x640 2 humans, Done. (0.610s)\n",
            "video 1/1 (110/304) /content/input2.mp4: 384x640 2 humans, Done. (0.643s)\n",
            "video 1/1 (111/304) /content/input2.mp4: 384x640 Done. (0.633s)\n",
            "video 1/1 (112/304) /content/input2.mp4: 384x640 Done. (0.625s)\n",
            "video 1/1 (113/304) /content/input2.mp4: 384x640 2 humans, Done. (0.638s)\n",
            "video 1/1 (114/304) /content/input2.mp4: 384x640 5 humans, Done. (0.625s)\n",
            "video 1/1 (115/304) /content/input2.mp4: 384x640 3 humans, Done. (0.611s)\n",
            "video 1/1 (116/304) /content/input2.mp4: 384x640 3 humans, Done. (0.631s)\n",
            "video 1/1 (117/304) /content/input2.mp4: 384x640 5 humans, Done. (0.609s)\n",
            "video 1/1 (118/304) /content/input2.mp4: 384x640 4 humans, Done. (0.629s)\n",
            "video 1/1 (119/304) /content/input2.mp4: 384x640 8 humans, Done. (0.637s)\n",
            "video 1/1 (120/304) /content/input2.mp4: 384x640 6 humans, Done. (0.615s)\n",
            "video 1/1 (121/304) /content/input2.mp4: 384x640 6 humans, Done. (0.626s)\n",
            "video 1/1 (122/304) /content/input2.mp4: 384x640 6 humans, Done. (0.632s)\n",
            "video 1/1 (123/304) /content/input2.mp4: 384x640 5 humans, Done. (0.613s)\n",
            "video 1/1 (124/304) /content/input2.mp4: 384x640 5 humans, Done. (0.621s)\n",
            "video 1/1 (125/304) /content/input2.mp4: 384x640 7 humans, Done. (0.612s)\n",
            "video 1/1 (126/304) /content/input2.mp4: 384x640 8 humans, Done. (0.619s)\n",
            "video 1/1 (127/304) /content/input2.mp4: 384x640 5 humans, Done. (0.632s)\n",
            "video 1/1 (128/304) /content/input2.mp4: 384x640 5 humans, Done. (0.614s)\n",
            "video 1/1 (129/304) /content/input2.mp4: 384x640 9 humans, Done. (0.633s)\n",
            "video 1/1 (130/304) /content/input2.mp4: 384x640 10 humans, Done. (0.626s)\n",
            "video 1/1 (131/304) /content/input2.mp4: 384x640 7 humans, Done. (0.609s)\n",
            "video 1/1 (132/304) /content/input2.mp4: 384x640 9 humans, Done. (0.615s)\n",
            "video 1/1 (133/304) /content/input2.mp4: 384x640 10 humans, Done. (0.611s)\n",
            "video 1/1 (134/304) /content/input2.mp4: 384x640 10 humans, Done. (0.625s)\n",
            "video 1/1 (135/304) /content/input2.mp4: 384x640 9 humans, Done. (0.654s)\n",
            "video 1/1 (136/304) /content/input2.mp4: 384x640 9 humans, Done. (0.618s)\n",
            "video 1/1 (137/304) /content/input2.mp4: 384x640 11 humans, Done. (0.622s)\n",
            "video 1/1 (138/304) /content/input2.mp4: 384x640 18 humans, Done. (0.623s)\n",
            "video 1/1 (139/304) /content/input2.mp4: 384x640 17 humans, Done. (0.614s)\n",
            "video 1/1 (140/304) /content/input2.mp4: 384x640 17 humans, Done. (0.628s)\n",
            "video 1/1 (141/304) /content/input2.mp4: 384x640 17 humans, Done. (0.615s)\n",
            "video 1/1 (142/304) /content/input2.mp4: 384x640 15 humans, Done. (0.618s)\n",
            "video 1/1 (143/304) /content/input2.mp4: 384x640 16 humans, Done. (0.633s)\n",
            "video 1/1 (144/304) /content/input2.mp4: 384x640 15 humans, Done. (0.619s)\n",
            "video 1/1 (145/304) /content/input2.mp4: 384x640 18 humans, Done. (0.621s)\n",
            "video 1/1 (146/304) /content/input2.mp4: 384x640 18 humans, Done. (0.626s)\n",
            "video 1/1 (147/304) /content/input2.mp4: 384x640 18 humans, Done. (0.621s)\n",
            "video 1/1 (148/304) /content/input2.mp4: 384x640 14 humans, Done. (0.615s)\n",
            "video 1/1 (149/304) /content/input2.mp4: 384x640 17 humans, Done. (0.626s)\n",
            "video 1/1 (150/304) /content/input2.mp4: 384x640 17 humans, Done. (0.617s)\n",
            "video 1/1 (151/304) /content/input2.mp4: 384x640 17 humans, Done. (0.635s)\n",
            "video 1/1 (152/304) /content/input2.mp4: 384x640 16 humans, Done. (0.617s)\n",
            "video 1/1 (153/304) /content/input2.mp4: 384x640 16 humans, Done. (0.627s)\n",
            "video 1/1 (154/304) /content/input2.mp4: 384x640 16 humans, Done. (0.619s)\n",
            "video 1/1 (155/304) /content/input2.mp4: 384x640 17 humans, Done. (0.619s)\n",
            "video 1/1 (156/304) /content/input2.mp4: 384x640 14 humans, Done. (0.625s)\n",
            "video 1/1 (157/304) /content/input2.mp4: 384x640 17 humans, Done. (0.630s)\n",
            "video 1/1 (158/304) /content/input2.mp4: 384x640 17 humans, Done. (0.625s)\n",
            "video 1/1 (159/304) /content/input2.mp4: 384x640 20 humans, Done. (0.627s)\n",
            "video 1/1 (160/304) /content/input2.mp4: 384x640 16 humans, Done. (0.626s)\n",
            "video 1/1 (161/304) /content/input2.mp4: 384x640 17 humans, Done. (0.613s)\n",
            "video 1/1 (162/304) /content/input2.mp4: 384x640 16 humans, Done. (0.621s)\n",
            "video 1/1 (163/304) /content/input2.mp4: 384x640 18 humans, Done. (0.620s)\n",
            "video 1/1 (164/304) /content/input2.mp4: 384x640 18 humans, Done. (0.620s)\n",
            "video 1/1 (165/304) /content/input2.mp4: 384x640 18 humans, Done. (0.616s)\n",
            "video 1/1 (166/304) /content/input2.mp4: 384x640 16 humans, Done. (0.613s)\n",
            "video 1/1 (167/304) /content/input2.mp4: 384x640 16 humans, Done. (0.625s)\n",
            "video 1/1 (168/304) /content/input2.mp4: 384x640 11 humans, Done. (0.630s)\n",
            "video 1/1 (169/304) /content/input2.mp4: 384x640 16 humans, Done. (0.616s)\n",
            "video 1/1 (170/304) /content/input2.mp4: 384x640 16 humans, Done. (0.624s)\n",
            "video 1/1 (171/304) /content/input2.mp4: 384x640 13 humans, Done. (0.610s)\n",
            "video 1/1 (172/304) /content/input2.mp4: 384x640 14 humans, Done. (0.615s)\n",
            "video 1/1 (173/304) /content/input2.mp4: 384x640 16 humans, Done. (0.641s)\n",
            "video 1/1 (174/304) /content/input2.mp4: 384x640 14 humans, Done. (0.651s)\n",
            "video 1/1 (175/304) /content/input2.mp4: 384x640 12 humans, Done. (0.635s)\n",
            "video 1/1 (176/304) /content/input2.mp4: 384x640 12 humans, Done. (0.623s)\n",
            "video 1/1 (177/304) /content/input2.mp4: 384x640 18 humans, Done. (0.608s)\n",
            "video 1/1 (178/304) /content/input2.mp4: 384x640 16 humans, Done. (0.622s)\n",
            "video 1/1 (179/304) /content/input2.mp4: 384x640 14 humans, Done. (0.615s)\n",
            "video 1/1 (180/304) /content/input2.mp4: 384x640 13 humans, Done. (0.604s)\n",
            "video 1/1 (181/304) /content/input2.mp4: 384x640 14 humans, Done. (0.621s)\n",
            "video 1/1 (182/304) /content/input2.mp4: 384x640 14 humans, Done. (0.611s)\n",
            "video 1/1 (183/304) /content/input2.mp4: 384x640 14 humans, Done. (0.623s)\n",
            "video 1/1 (184/304) /content/input2.mp4: 384x640 13 humans, Done. (0.637s)\n",
            "video 1/1 (185/304) /content/input2.mp4: 384x640 13 humans, Done. (0.615s)\n",
            "video 1/1 (186/304) /content/input2.mp4: 384x640 13 humans, Done. (0.622s)\n",
            "video 1/1 (187/304) /content/input2.mp4: 384x640 12 humans, Done. (0.619s)\n",
            "video 1/1 (188/304) /content/input2.mp4: 384x640 13 humans, Done. (0.618s)\n",
            "video 1/1 (189/304) /content/input2.mp4: 384x640 14 humans, Done. (0.625s)\n",
            "video 1/1 (190/304) /content/input2.mp4: 384x640 10 humans, Done. (0.617s)\n",
            "video 1/1 (191/304) /content/input2.mp4: 384x640 12 humans, Done. (0.622s)\n",
            "video 1/1 (192/304) /content/input2.mp4: 384x640 11 humans, Done. (0.629s)\n",
            "video 1/1 (193/304) /content/input2.mp4: 384x640 9 humans, Done. (0.615s)\n",
            "video 1/1 (194/304) /content/input2.mp4: 384x640 9 humans, Done. (0.619s)\n",
            "video 1/1 (195/304) /content/input2.mp4: 384x640 13 humans, Done. (0.623s)\n",
            "video 1/1 (196/304) /content/input2.mp4: 384x640 13 humans, Done. (0.608s)\n",
            "video 1/1 (197/304) /content/input2.mp4: 384x640 8 humans, Done. (0.620s)\n",
            "video 1/1 (198/304) /content/input2.mp4: 384x640 7 humans, Done. (0.623s)\n",
            "video 1/1 (199/304) /content/input2.mp4: 384x640 6 humans, Done. (0.620s)\n",
            "video 1/1 (200/304) /content/input2.mp4: 384x640 6 humans, Done. (0.618s)\n",
            "video 1/1 (201/304) /content/input2.mp4: 384x640 6 humans, Done. (0.627s)\n",
            "video 1/1 (202/304) /content/input2.mp4: 384x640 9 humans, Done. (0.610s)\n",
            "video 1/1 (203/304) /content/input2.mp4: 384x640 7 humans, Done. (0.631s)\n",
            "video 1/1 (204/304) /content/input2.mp4: 384x640 8 humans, Done. (0.608s)\n",
            "video 1/1 (205/304) /content/input2.mp4: 384x640 7 humans, Done. (0.620s)\n",
            "video 1/1 (206/304) /content/input2.mp4: 384x640 7 humans, Done. (0.606s)\n",
            "video 1/1 (207/304) /content/input2.mp4: 384x640 6 humans, Done. (0.614s)\n",
            "video 1/1 (208/304) /content/input2.mp4: 384x640 7 humans, Done. (0.625s)\n",
            "video 1/1 (209/304) /content/input2.mp4: 384x640 8 humans, Done. (0.612s)\n",
            "video 1/1 (210/304) /content/input2.mp4: 384x640 6 humans, Done. (0.615s)\n",
            "video 1/1 (211/304) /content/input2.mp4: 384x640 8 humans, Done. (0.612s)\n",
            "video 1/1 (212/304) /content/input2.mp4: 384x640 8 humans, Done. (0.608s)\n",
            "video 1/1 (213/304) /content/input2.mp4: 384x640 6 humans, Done. (0.618s)\n",
            "video 1/1 (214/304) /content/input2.mp4: 384x640 6 humans, Done. (0.613s)\n",
            "video 1/1 (215/304) /content/input2.mp4: 384x640 9 humans, Done. (0.614s)\n",
            "video 1/1 (216/304) /content/input2.mp4: 384x640 8 humans, Done. (0.617s)\n",
            "video 1/1 (217/304) /content/input2.mp4: 384x640 7 humans, Done. (0.606s)\n",
            "video 1/1 (218/304) /content/input2.mp4: 384x640 7 humans, Done. (0.626s)\n",
            "video 1/1 (219/304) /content/input2.mp4: 384x640 8 humans, Done. (0.614s)\n",
            "video 1/1 (220/304) /content/input2.mp4: 384x640 6 humans, Done. (0.611s)\n",
            "video 1/1 (221/304) /content/input2.mp4: 384x640 11 humans, Done. (0.615s)\n",
            "video 1/1 (222/304) /content/input2.mp4: 384x640 10 humans, Done. (0.611s)\n",
            "video 1/1 (223/304) /content/input2.mp4: 384x640 9 humans, Done. (0.617s)\n",
            "video 1/1 (224/304) /content/input2.mp4: 384x640 9 humans, Done. (0.625s)\n",
            "video 1/1 (225/304) /content/input2.mp4: 384x640 8 humans, Done. (0.610s)\n",
            "video 1/1 (226/304) /content/input2.mp4: 384x640 8 humans, Done. (0.620s)\n",
            "video 1/1 (227/304) /content/input2.mp4: 384x640 10 humans, Done. (0.606s)\n",
            "video 1/1 (228/304) /content/input2.mp4: 384x640 10 humans, Done. (0.626s)\n",
            "video 1/1 (229/304) /content/input2.mp4: 384x640 10 humans, Done. (0.613s)\n",
            "video 1/1 (230/304) /content/input2.mp4: 384x640 10 humans, Done. (0.613s)\n",
            "video 1/1 (231/304) /content/input2.mp4: 384x640 11 humans, Done. (0.619s)\n",
            "video 1/1 (232/304) /content/input2.mp4: 384x640 14 humans, Done. (0.621s)\n",
            "video 1/1 (233/304) /content/input2.mp4: 384x640 13 humans, Done. (0.613s)\n",
            "video 1/1 (234/304) /content/input2.mp4: 384x640 12 humans, Done. (0.632s)\n",
            "video 1/1 (235/304) /content/input2.mp4: 384x640 16 humans, Done. (0.607s)\n",
            "video 1/1 (236/304) /content/input2.mp4: 384x640 16 humans, Done. (0.611s)\n",
            "video 1/1 (237/304) /content/input2.mp4: 384x640 15 humans, Done. (0.630s)\n",
            "video 1/1 (238/304) /content/input2.mp4: 384x640 12 humans, Done. (0.606s)\n",
            "video 1/1 (239/304) /content/input2.mp4: 384x640 17 humans, Done. (0.621s)\n",
            "video 1/1 (240/304) /content/input2.mp4: 384x640 14 humans, Done. (0.614s)\n",
            "video 1/1 (241/304) /content/input2.mp4: 384x640 18 humans, Done. (0.605s)\n",
            "video 1/1 (242/304) /content/input2.mp4: 384x640 17 humans, Done. (0.618s)\n",
            "video 1/1 (243/304) /content/input2.mp4: 384x640 14 humans, Done. (0.613s)\n",
            "video 1/1 (244/304) /content/input2.mp4: 384x640 16 humans, Done. (0.622s)\n",
            "video 1/1 (245/304) /content/input2.mp4: 384x640 13 humans, Done. (0.631s)\n",
            "video 1/1 (246/304) /content/input2.mp4: 384x640 18 humans, Done. (0.627s)\n",
            "video 1/1 (247/304) /content/input2.mp4: 384x640 20 humans, Done. (0.617s)\n",
            "video 1/1 (248/304) /content/input2.mp4: 384x640 20 humans, Done. (0.623s)\n",
            "video 1/1 (249/304) /content/input2.mp4: 384x640 16 humans, Done. (0.612s)\n",
            "video 1/1 (250/304) /content/input2.mp4: 384x640 17 humans, Done. (0.639s)\n",
            "video 1/1 (251/304) /content/input2.mp4: 384x640 17 humans, Done. (0.637s)\n",
            "video 1/1 (252/304) /content/input2.mp4: 384x640 20 humans, Done. (0.607s)\n",
            "video 1/1 (253/304) /content/input2.mp4: 384x640 17 humans, Done. (0.633s)\n",
            "video 1/1 (254/304) /content/input2.mp4: 384x640 17 humans, Done. (0.613s)\n",
            "video 1/1 (255/304) /content/input2.mp4: 384x640 14 humans, Done. (0.617s)\n",
            "video 1/1 (256/304) /content/input2.mp4: 384x640 16 humans, Done. (0.622s)\n",
            "video 1/1 (257/304) /content/input2.mp4: 384x640 18 humans, Done. (0.611s)\n",
            "video 1/1 (258/304) /content/input2.mp4: 384x640 21 humans, Done. (0.613s)\n",
            "video 1/1 (259/304) /content/input2.mp4: 384x640 21 humans, Done. (0.635s)\n",
            "video 1/1 (260/304) /content/input2.mp4: 384x640 21 humans, Done. (0.614s)\n",
            "video 1/1 (261/304) /content/input2.mp4: 384x640 20 humans, Done. (0.619s)\n",
            "video 1/1 (262/304) /content/input2.mp4: 384x640 20 humans, Done. (0.611s)\n",
            "video 1/1 (263/304) /content/input2.mp4: 384x640 20 humans, Done. (0.614s)\n",
            "video 1/1 (264/304) /content/input2.mp4: 384x640 18 humans, Done. (0.621s)\n",
            "video 1/1 (265/304) /content/input2.mp4: 384x640 19 humans, Done. (0.611s)\n",
            "video 1/1 (266/304) /content/input2.mp4: 384x640 19 humans, Done. (0.615s)\n",
            "video 1/1 (267/304) /content/input2.mp4: 384x640 19 humans, Done. (0.623s)\n",
            "video 1/1 (268/304) /content/input2.mp4: 384x640 17 humans, Done. (0.611s)\n",
            "video 1/1 (269/304) /content/input2.mp4: 384x640 12 humans, Done. (0.623s)\n",
            "video 1/1 (270/304) /content/input2.mp4: 384x640 14 humans, Done. (0.616s)\n",
            "video 1/1 (271/304) /content/input2.mp4: 384x640 15 humans, Done. (0.608s)\n",
            "video 1/1 (272/304) /content/input2.mp4: 384x640 15 humans, Done. (0.622s)\n",
            "video 1/1 (273/304) /content/input2.mp4: 384x640 16 humans, Done. (0.612s)\n",
            "video 1/1 (274/304) /content/input2.mp4: 384x640 17 humans, Done. (0.617s)\n",
            "video 1/1 (275/304) /content/input2.mp4: 384x640 16 humans, Done. (0.626s)\n",
            "video 1/1 (276/304) /content/input2.mp4: 384x640 12 humans, Done. (0.618s)\n",
            "video 1/1 (277/304) /content/input2.mp4: 384x640 17 humans, Done. (0.621s)\n",
            "video 1/1 (278/304) /content/input2.mp4: 384x640 17 humans, Done. (0.607s)\n",
            "video 1/1 (279/304) /content/input2.mp4: 384x640 14 humans, Done. (0.616s)\n",
            "video 1/1 (280/304) /content/input2.mp4: 384x640 15 humans, Done. (0.624s)\n",
            "video 1/1 (281/304) /content/input2.mp4: 384x640 18 humans, Done. (0.611s)\n",
            "video 1/1 (282/304) /content/input2.mp4: 384x640 22 humans, Done. (0.617s)\n",
            "video 1/1 (283/304) /content/input2.mp4: 384x640 18 humans, Done. (0.620s)\n",
            "video 1/1 (284/304) /content/input2.mp4: 384x640 18 humans, Done. (0.611s)\n",
            "video 1/1 (285/304) /content/input2.mp4: 384x640 18 humans, Done. (0.622s)\n",
            "video 1/1 (286/304) /content/input2.mp4: 384x640 15 humans, Done. (0.611s)\n",
            "video 1/1 (287/304) /content/input2.mp4: 384x640 13 humans, Done. (0.621s)\n",
            "video 1/1 (288/304) /content/input2.mp4: 384x640 13 humans, Done. (0.622s)\n",
            "video 1/1 (289/304) /content/input2.mp4: 384x640 13 humans, Done. (0.614s)\n",
            "video 1/1 (290/304) /content/input2.mp4: 384x640 13 humans, Done. (0.629s)\n",
            "video 1/1 (291/304) /content/input2.mp4: 384x640 17 humans, Done. (0.619s)\n",
            "video 1/1 (292/304) /content/input2.mp4: 384x640 13 humans, Done. (0.629s)\n",
            "video 1/1 (293/304) /content/input2.mp4: 384x640 17 humans, Done. (0.632s)\n",
            "video 1/1 (294/304) /content/input2.mp4: 384x640 18 humans, Done. (0.637s)\n",
            "video 1/1 (295/304) /content/input2.mp4: 384x640 22 humans, Done. (0.613s)\n",
            "video 1/1 (296/304) /content/input2.mp4: 384x640 21 humans, Done. (0.627s)\n",
            "video 1/1 (297/304) /content/input2.mp4: 384x640 20 humans, Done. (0.625s)\n",
            "video 1/1 (298/304) /content/input2.mp4: 384x640 19 humans, Done. (0.635s)\n",
            "video 1/1 (299/304) /content/input2.mp4: 384x640 20 humans, Done. (0.628s)\n",
            "video 1/1 (300/304) /content/input2.mp4: 384x640 18 humans, Done. (0.613s)\n",
            "video 1/1 (301/304) /content/input2.mp4: 384x640 17 humans, Done. (0.629s)\n",
            "video 1/1 (302/304) /content/input2.mp4: 384x640 17 humans, Done. (0.618s)\n",
            "video 1/1 (303/304) /content/input2.mp4: 384x640 15 humans, Done. (0.615s)\n",
            "video 1/1 (304/304) /content/input2.mp4: 384x640 17 humans, Done. (0.622s)\n",
            "Speed: 1.9ms pre-process, 624.6ms inference, 0.8ms NMS per image at shape (1, 3, 640, 640)\n",
            "Results saved to \u001b[1mruns/detect/exp2\u001b[0m\n"
          ]
        }
      ]
    },
    {
      "cell_type": "code",
      "source": [
        "# Train\n",
        "\n",
        "!python train.py --img 640 --batch 16 --epochs 3 --data coco128.yaml --weights yolov5s.pt --cache"
      ],
      "metadata": {
        "id": "QG2bMEBb9A-K"
      },
      "execution_count": null,
      "outputs": []
    }
  ]
}